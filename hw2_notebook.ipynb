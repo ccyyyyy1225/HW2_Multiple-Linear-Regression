{
 "cells": [
  {
   "cell_type": "markdown",
   "id": "bb613dd2",
   "metadata": {},
   "source": [
    "# HW2 — Multiple Linear Regression (CRISP-DM)\n",
    "\n",
    "在此 Notebook 可重現主程式流程，並方便上傳到 Colab。"
   ]
  },
  {
   "cell_type": "code",
   "execution_count": null,
   "id": "57379d89",
   "metadata": {},
   "outputs": [],
   "source": [
    "!pip -q install -r requirements.txt"
   ]
  },
  {
   "cell_type": "code",
   "execution_count": null,
   "id": "ee2bc9cf",
   "metadata": {},
   "outputs": [],
   "source": [
    "# 參數區\n",
    "DATA_PATH = \"data/winequality-red.csv\"   # or winequality-white.csv\n",
    "TARGET = \"quality\"\n",
    "SELECTOR = \"kbest\"     # \"kbest\" | \"rfe\" | \"lasso\" | \"none\"\n",
    "K = 8\n",
    "TEST_SIZE = 0.2\n",
    "SEED = 42\n",
    "CV = 0"
   ]
  },
  {
   "cell_type": "code",
   "execution_count": null,
   "id": "ae37c922",
   "metadata": {},
   "outputs": [],
   "source": [
    "import json, subprocess, sys\n",
    "cmd = [sys.executable, \"hw2_main.py\",\n",
    "       \"--data\", DATA_PATH, \"--target\", TARGET,\n",
    "       \"--selector\", SELECTOR, \"--k\", str(K),\n",
    "       \"--test_size\", str(TEST_SIZE), \"--seed\", str(SEED), \"--cv\", str(CV)]\n",
    "print(\"Running:\", \" \".join(cmd))\n",
    "print(subprocess.run(cmd, capture_output=False).returncode)"
   ]
  },
  {
   "cell_type": "markdown",
   "id": "815f68d0",
   "metadata": {},
   "source": [
    "執行後的圖與 `outputs/results.json` 會出現在 `outputs/` 目錄。請將重要圖片嵌入報告中。"
   ]
  }
 ],
 "metadata": {},
 "nbformat": 4,
 "nbformat_minor": 5
}
